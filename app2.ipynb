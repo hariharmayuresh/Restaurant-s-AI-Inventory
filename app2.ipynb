{
 "cells": [
  {
   "cell_type": "code",
   "execution_count": 5,
   "id": "4c4dd08e",
   "metadata": {},
   "outputs": [
    {
     "name": "stderr",
     "output_type": "stream",
     "text": [
      "2024-04-03 22:26:42.554 \n",
      "  \u001b[33m\u001b[1mWarning:\u001b[0m to view this Streamlit app on a browser, run it with the following\n",
      "  command:\n",
      "\n",
      "    streamlit run C:\\Users\\EARENDEL ICARUS\\anaconda3\\lib\\site-packages\\ipykernel_launcher.py [ARGUMENTS]\n"
     ]
    }
   ],
   "source": [
    "import streamlit as st\n",
    "import pandas as pd\n",
    "from sklearn.ensemble import RandomForestClassifier\n",
    "from sklearn.preprocessing import OneHotEncoder\n",
    "from sklearn.compose import ColumnTransformer\n",
    "\n",
    "# Load the dataset\n",
    "df = pd.read_csv(\"Demand prediction dataset (Up3).csv\")\n",
    "df.rename(columns={'Holiday/Event': 'Holiday'}, inplace=True)\n",
    "df = df.fillna('NO')\n",
    "df = df.drop(['Date', 'Quantity Sold', 'Sales Amount (INR)'], axis=1)\n",
    "\n",
    "# Preprocessing\n",
    "X_categorical = df[['Day of the week', 'Holiday', 'Weather Condition']]\n",
    "y = df['Menu Item']\n",
    "\n",
    "# One-hot encode categorical variables\n",
    "column_transformer = ColumnTransformer(\n",
    "    transformers=[\n",
    "        ('encoder', OneHotEncoder(), [0, 1, 2])\n",
    "    ],\n",
    "    remainder='passthrough'\n",
    ")\n",
    "X_encoded = column_transformer.fit_transform(X_categorical)\n",
    "\n",
    "# Train the model\n",
    "model = RandomForestClassifier()\n",
    "model.fit(X_encoded, y)\n",
    "\n",
    "# Function to predict menu item\n",
    "def predict_menu(day, holiday, weather):\n",
    "    input_data = column_transformer.transform([[day, holiday, weather]])\n",
    "    prediction = model.predict(input_data)\n",
    "    return prediction[0]\n",
    "\n",
    "# Create Streamlit app\n",
    "def main():\n",
    "    st.title(\"Menu Demand Prediction\")\n",
    "\n",
    "    # Day of the week dropdown\n",
    "    day = st.selectbox(\"Day of the Week:\", ['Monday', 'Tuesday', 'Wednesday', 'Thursday', 'Friday', 'Saturday', 'Sunday'])\n",
    "\n",
    "    # Holiday dropdown\n",
    "    holiday = st.selectbox(\"Holiday:\", [\"New Year's Day\", 'NO', 'Weekend', 'Pongal', 'Makar Sankranti', 'Republic Day', \"Valentine's Day\", 'Holi', 'Gudi Padwa', \"April Fools' Day\", 'Ram Navami', 'Good Friday', 'Easter Sunday', 'Ambedkar Jayanti', 'Hanuman Jayanti', 'Buddha Purnima', 'May Day', \"Mother's Day\", 'Eid al-Fitr', \"Father's Day\", 'Bakri Id', 'Raksha Bandhan', 'Janmashtami', 'Independence Day','Ganesh Chaturthi', 'Onam', 'Hindi Diwas', 'Navratri'])\n",
    "\n",
    "    # Weather condition dropdown\n",
    "    weather = st.selectbox(\"Weather Condition:\", ['Clear', 'Foggy', 'Rainy'])\n",
    "\n",
    "    # Predict button\n",
    "    if st.button(\"Predict\"):\n",
    "        prediction = predict_menu(day, holiday, weather)\n",
    "        st.write(\"Predicted Menu Item:\", prediction)\n",
    "\n",
    "if __name__ == \"__main__\":\n",
    "    main()\n"
   ]
  },
  {
   "cell_type": "code",
   "execution_count": null,
   "id": "cb3fc43a",
   "metadata": {},
   "outputs": [],
   "source": []
  }
 ],
 "metadata": {
  "kernelspec": {
   "display_name": "Python 3 (ipykernel)",
   "language": "python",
   "name": "python3"
  },
  "language_info": {
   "codemirror_mode": {
    "name": "ipython",
    "version": 3
   },
   "file_extension": ".py",
   "mimetype": "text/x-python",
   "name": "python",
   "nbconvert_exporter": "python",
   "pygments_lexer": "ipython3",
   "version": "3.9.13"
  }
 },
 "nbformat": 4,
 "nbformat_minor": 5
}
